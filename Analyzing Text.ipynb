{
 "cells": [
  {
   "cell_type": "markdown",
   "metadata": {},
   "source": [
    "# Analyzing Text"
   ]
  },
  {
   "cell_type": "markdown",
   "metadata": {},
   "source": [
    "Write the TextAnalyzer class in the cell below. We have already imported some libraries that should be useful to you."
   ]
  },
  {
   "cell_type": "code",
   "execution_count": 1,
   "metadata": {
    "collapsed": true,
    "scrolled": true
   },
   "outputs": [],
   "source": [
    "import requests, re\n",
    "from bs4 import BeautifulSoup\n",
    "from collections import Counter\n",
    "import statistics as stats\n",
    "import string\n",
    "\n",
    "#create your class here\n",
    "        "
   ]
  },
  {
   "cell_type": "code",
   "execution_count": 143,
   "metadata": {},
   "outputs": [],
   "source": [
    "class TextAnalyzer:\n",
    "    '''\n",
    "    This class pass a src: a valid URL or a text file path or a string of text \n",
    "    to an analyzer that find, count, plot common words.\n",
    "    '''\n",
    "    def __init__(self,src,src_type=None):\n",
    "        '''\n",
    "        Initialize an object src for analysis:\n",
    "        Keyword arguments:\n",
    "        src (obj) -- a url path, text file or text string\n",
    "        src_type -- source type. Options are: url, path to text file, text string\n",
    "        '''\n",
    "        self._src = src\n",
    "        self._src_type = src_type\n",
    "        self._content = None\n",
    "        self._orig_content = None\n",
    "        \n",
    "        # Use discover function to find the type\n",
    "        if self._src_type is None:\n",
    "            print(f'Source type unknown, use discover function to find the type')\n",
    "            self._src_type = self.discover()\n",
    "        else:\n",
    "            pass\n",
    "        \n",
    "        # Initialize the content with different input functions based on _src_type\n",
    "        if self._src_type == 'url':\n",
    "            headers = {'user-agent': 'my-app/0.0.1'}\n",
    "            req = requests.get(self._src, headers=headers)\n",
    "            self._orig_content = req.text\n",
    "        elif self._src_type == 'path':\n",
    "            with open( self._src, 'r') as f:\n",
    "                self._orig_content = f.read()\n",
    "        elif self._src_type == 'text':\n",
    "            self._orig_content = self._src\n",
    "        else:\n",
    "            print(f'Please input a url, txt file path, or a text string source.')\n",
    "        self._content = self._orig_content\n",
    "        \n",
    "        \n",
    "    def discover(self):\n",
    "        # Determine the type of the input src object:url/filepath/text string\n",
    "        if self._src.startswith('http'):\n",
    "            _src_type = 'url'\n",
    "        elif self._src.endswith('txt'):\n",
    "            _src_type = 'path'\n",
    "        else:\n",
    "            _src_type = 'text'\n",
    "        return _src_type\n",
    "    \n",
    "    def set_content_to_tag(self, tag, tag_id=None):\n",
    "        '''\n",
    "        Get text using beautifulsoup library to parse HTML and get an object\n",
    "        ValueError if cannot find tag/tagid\n",
    "        Keyword arguments:\n",
    "        tag (str) -- Tag to read\n",
    "        tag_id (str) -- ID of tag to read\n",
    "        '''\n",
    "        self._tag = tag\n",
    "        self._tag_id = tag_id\n",
    "        if self._tag != tag or self._tag_id != tag_id:\n",
    "            # reset to original content to use parser\n",
    "            print('Calling reset_content()')\n",
    "            self.reset_content()\n",
    "        else:\n",
    "            try:\n",
    "                # Create beautifulsoup object for tag\n",
    "                soup = BeautifulSoup(self._content, 'html.parser')\n",
    "                # Get text and assign to self._content\n",
    "                self._content = soup.find(tag, {'id': tag_id}).get_text()\n",
    "                \n",
    "            except ValueError:\n",
    "                # raise exception of tag or tag_id is not found\n",
    "                if tag is None or tag_id is None:\n",
    "                    print(f\"Tag {tag} or Tag_id {tag_id} is not found.\")\n",
    "        \n",
    "    def reset_content(self):\n",
    "        # Resets _content to original after set_content_to_tag(). \n",
    "        # Only for url type\n",
    "        if self._src_type == 'url':\n",
    "            self._content = self._orig_content \n",
    "        else:\n",
    "            print(f'Source type is not a URL.')\n",
    "        \n",
    "        \n",
    "    def _words(self,casesensitive=False):\n",
    "        '''\n",
    "        Returns words in _content as list.\n",
    "        Keyword arguments:\n",
    "        casesensitive (bool) -- If False makes all words uppercase.\n",
    "        '''\n",
    "        if casesensitive is True:\n",
    "            words = [word.strip(string.punctuation) for word in self._content.split()]\n",
    "        else:\n",
    "            words = [word.strip(string.punctuation).upper() for word in self._content.split()] \n",
    "        return words\n",
    "    \n",
    "    def common_words(self, minlen=1, maxlen=100, count=10, casesensitive=False):\n",
    "        '''\n",
    "        Returns a list of 2-element tuples of the structure (word, num), \n",
    "        where num is the number of times word shows up in _content.\n",
    "        \n",
    "        Keyword arguments:\n",
    "        minlen (int) - Minimum length of words to include.\n",
    "        maxlen (int) - Maximum length of words to include.\n",
    "        count (int) - Number of words to include.\n",
    "        casesensitive (bool) -- If False makes all words uppercase\n",
    "        '''\n",
    "        _common_words = []\n",
    "        if casesensitive is True:\n",
    "            _common_words = [word for word in self._words(casesensitive) if (len(word)>=minlen and len(word)<=maxlen)]            \n",
    "        else:\n",
    "            _common_words = [word.upper() for word in self._words(casesensitive) if (len(word)>=minlen and len(word)<=maxlen)]\n",
    "        # Use Counter from collections module\n",
    "        return Counter(_common_words).most_common(count)\n",
    "\n",
    "        \n",
    "        \n",
    "        \n",
    "    def char_distribution(self, casesensitive=False, letters_only=False):\n",
    "        '''\n",
    "        Returns a list of 2-element tuples of the format (char, num), \n",
    "        where num is the number of times char shows up in _content. \n",
    "        The list should be sorted by num in descending order.\n",
    "\n",
    "        Keyword arguments:\n",
    "\n",
    "        casesensitive (bool) -- Consider case?\n",
    "        letters_only (bool) -- Exclude non-letters?\n",
    "        '''\n",
    "        \n",
    "        # Create a letter only item using compile\n",
    "        p = re.compile('[^a-zA-Z]')\n",
    "        _letter_only = p.sub('',self._content.rstrip('\\n'))\n",
    "        \n",
    "        # Determine 4 situations\n",
    "        if letters_only is True and casesensitive is True:\n",
    "            _chars = [char.strip(string.punctuation) for char in _letter_only]\n",
    "        elif letters_only is True and casesensitive is False:\n",
    "            _chars = [char.strip(string.punctuation).upper() for char in _letter_only]\n",
    "        elif letters_only is False and casesensitive is True:\n",
    "            _chars = [char for char in self._content]\n",
    "        elif letters_only is False and casesensitive is False:\n",
    "            _chars = [char.upper() for char in self._content]\n",
    "            \n",
    "        # Use Counter from collections module and then sort\n",
    "        char_dist = Counter(_chars).most_common()\n",
    "        #char_dist = sorted(char_dist, key=lambda x: x[1], reverse=False)\n",
    "        \n",
    "        return char_dist\n",
    "    \n",
    "    def plot_common_words(self, minlen=1, maxlen=100, count=10, casesensitive=False):\n",
    "        '''\n",
    "        Plots most common words.\n",
    "\n",
    "        Keyword arguments:\n",
    "\n",
    "        minlen (int) -- Minimum length of words to include.\n",
    "        maxlen (int) -- Maximum length of words to include.\n",
    "        count (int) -- Number of words to include.\n",
    "        casesensitive (bool) -- If False makes all words uppercase.\n",
    "        '''\n",
    "        # Convert list into df\n",
    "        df_cw = pd.DataFrame(self.common_words(minlen, maxlen, count, casesensitive))\n",
    "        df_cw.columns = ['Word', 'Count']\n",
    "        df_cw.index = df_cw['Word']\n",
    "        \n",
    "        plt_words = df_cw.plot(kind='bar',\n",
    "                               title='Common Words',\n",
    "                               figsize=(12, 6),\n",
    "                               width=.8,\n",
    "                               fontsize=16)\n",
    "        plt_words.set_ylabel('Word', fontsize=20)\n",
    "        plt_words.set_xlabel('Count', fontsize=20)\n",
    "        plt_words.grid(True)\n",
    "        \n",
    "    def plot_char_distribution(self, casesensitive=False, letters_only=False):\n",
    "        '''\n",
    "        Plots character distribution.\n",
    "\n",
    "        Keyword arguments:\n",
    "\n",
    "        casesensitive (bool) -- If False makes all words uppercase.\n",
    "        letters_only (bool) -- Exclude non-letters?\n",
    "\n",
    "        '''\n",
    "        # convert list into DF\n",
    "        df_cd = pd.DataFrame(self.char_distribution(casesensitive, letters_only))\n",
    "        df_cd.columns = ['Character', 'Count']\n",
    "        df_cd.index = df_cd['Character']\n",
    "        \n",
    "        plt_chars = df_cd.plot(kind='bar',\n",
    "                               title='Character Distribution',\n",
    "                               figsize=(12, 6),\n",
    "                               width=.8,\n",
    "                               fontsize=16)\n",
    "        plt_chars.set_ylabel('Character', fontsize=20)\n",
    "        plt_chars.set_xlabel('Count', fontsize=20)\n",
    "        plt_chars.grid(True)\n",
    "        \n",
    "        \n",
    "    @property\n",
    "    def avg_word_length(self):\n",
    "        # The average word length in _content rounded to the 100th place (e.g, 3.82).\n",
    "        _avg_word_length = sum([len(_w) for _w in self._words()]) / len(self._words())\n",
    "        return round(_avg_word_length, 2)\n",
    "    \n",
    "    @property\n",
    "    def word_count(self):\n",
    "        # The number of words in _content.\n",
    "        return len(self._words())\n",
    "    \n",
    "    @property\n",
    "    def distinct_word_count(self):\n",
    "        # The number of distinct words in _content.\n",
    "        return len(set(self._words()))\n",
    "        \n",
    "    @property\n",
    "    def words(self):\n",
    "        # A list of all words used in _content, including repeats, in all uppercase letters.\n",
    "        return self._words(casesensitive=False)\n",
    "    \n",
    "    @property\n",
    "    def positivity(self):\n",
    "        '''\n",
    "        A positivity score calculated as follows:\n",
    "        1. Create local tally variable with initial value of 0.\n",
    "        2. Increment tally by 1 for every word in self.words found in positive.txt (in same directory)\n",
    "        3. Decrement tally by 1 for every word in self.words found in negative.txt (in same directory)\n",
    "        4.Calculate score as follows:\n",
    "        round( tally / self.word_count * 1000)\n",
    "        '''\n",
    "        # 1. read and parse positive word file 'positive.txt' into list\n",
    "        with open('positive.txt', 'r') as _f:\n",
    "            # f.read().strip(string.punctuation)\n",
    "            _pdoc = _f.readlines()  # .strip(string.punctuation)\n",
    "            pos_words = []\n",
    "        for word in _pdoc:\n",
    "            pos_words = [word.strip(string.punctuation).rstrip('\\n').upper() for word in _pdoc]\n",
    "            \n",
    "        # 2. read and parse negative word file 'negative.txt' into list\n",
    "        with open('negative.txt', 'r') as _f:\n",
    "            _ndoc = _f.readlines()\n",
    "            neg_words = []\n",
    "        for word in _ndoc:\n",
    "            neg_words = [word.strip(string.punctuation).rstrip('\\n').upper() for word in _ndoc]\n",
    "            \n",
    "        # 3. calculate positivity score based on pos/neg word matches\n",
    "        _matches = []\n",
    "        _tally = 0\n",
    "        _pos = 0\n",
    "        _neg = 0\n",
    "        _words = self.words\n",
    "        for _w in _words:\n",
    "            if _w in pos_words:\n",
    "                _pos += 1\n",
    "                \n",
    "            if _w in neg_words:\n",
    "                _neg += 1\n",
    "        \n",
    "        _tally = _tally +_pos-_neg\n",
    "        _positivity = round(_tally / self.word_count * 1000)\n",
    "        return _positivity\n",
    "    "
   ]
  },
  {
   "cell_type": "markdown",
   "metadata": {},
   "source": [
    "## Tests\n",
    "When you have finished, you should run the tests below. If you get errors, you should do your very best to fix those errors before submitting the project.\n",
    "\n",
    "If you submit your project while still getting errors, you should explain that in your project submission email. The very first thing we will do to grade your project is run it through these tests. If it fails any of the tests, and you have not indicated that you are aware of specific test failures, we will stop grading and ask you to resubmit."
   ]
  },
  {
   "cell_type": "code",
   "execution_count": 109,
   "metadata": {
    "collapsed": true
   },
   "outputs": [
    {
     "name": "stderr",
     "output_type": "stream",
     "text": [
      "....."
     ]
    },
    {
     "name": "stdout",
     "output_type": "stream",
     "text": [
      "Source type unknown, use discover function to find the type\n",
      "Source type unknown, use discover function to find the type\n",
      "Source type unknown, use discover function to find the type\n"
     ]
    },
    {
     "name": "stderr",
     "output_type": "stream",
     "text": [
      "..."
     ]
    },
    {
     "name": "stdout",
     "output_type": "stream",
     "text": [
      "Source type unknown, use discover function to find the type\n"
     ]
    },
    {
     "name": "stderr",
     "output_type": "stream",
     "text": [
      "."
     ]
    },
    {
     "name": "stdout",
     "output_type": "stream",
     "text": [
      "Source type unknown, use discover function to find the type\n"
     ]
    },
    {
     "name": "stderr",
     "output_type": "stream",
     "text": [
      "..\n",
      "----------------------------------------------------------------------\n",
      "Ran 11 tests in 14.039s\n",
      "\n",
      "OK\n"
     ]
    },
    {
     "data": {
      "text/plain": [
       "<unittest.runner.TextTestResult run=11 errors=0 failures=0>"
      ]
     },
     "execution_count": 109,
     "metadata": {},
     "output_type": "execute_result"
    }
   ],
   "source": [
    "import unittest\n",
    "\n",
    "url = 'https://www.webucator.com/how-to/address-by-bill-clinton-1997.cfm'\n",
    "path = 'pride-and-prejudice.txt'\n",
    "text = '''The outlook wasn't brilliant for the Mudville Nine that day;\n",
    "the score stood four to two, with but one inning more to play.\n",
    "And then when Cooney died at first, and Barrows did the same,\n",
    "a sickly silence fell upon the patrons of the game.'''\n",
    "\n",
    "class TestTextAnalyzer(unittest.TestCase):\n",
    "    def test_discover_url(self):\n",
    "        ta = TextAnalyzer(url)\n",
    "        self.assertEqual(ta._src_type, 'url')\n",
    "    def test_discover_path(self):\n",
    "        ta = TextAnalyzer(path)\n",
    "        self.assertEqual(ta._src_type, 'path')\n",
    "    def test_discover_text(self):\n",
    "        ta = TextAnalyzer(text)\n",
    "        self.assertEqual(ta._src_type, 'text')\n",
    "    def test_set_content_to_tag(self):\n",
    "        ta = TextAnalyzer(url)\n",
    "        ta.set_content_to_tag('div','content-main')\n",
    "        self.assertEqual(ta._content[0:25], '\\n\\nAddress by Bill Clinton')\n",
    "    def test_reset_content(self):\n",
    "        ta = TextAnalyzer(url)\n",
    "        ta.set_content_to_tag('div','content-main')\n",
    "        ta.reset_content()\n",
    "        self.assertEqual(ta._content[0], '<')\n",
    "    def test_common_words(self):\n",
    "        ta = TextAnalyzer(path, src_type='path')\n",
    "        common_words = ta.common_words(minlen=5, maxlen=10)\n",
    "        liz = common_words[0]\n",
    "        self.assertEqual(liz[0],'ELIZABETH')\n",
    "    def test_avg_word_length(self):\n",
    "        ta = TextAnalyzer(text, src_type='text')\n",
    "        self.assertEqual(ta.avg_word_length, 4.16)\n",
    "    def test_word_count(self):\n",
    "        ta = TextAnalyzer(text, src_type='text')\n",
    "        self.assertEqual(ta.word_count, 45)\n",
    "    def test_distinct_word_count(self):\n",
    "        ta = TextAnalyzer(text, src_type='text')\n",
    "        self.assertEqual(ta.distinct_word_count, 38)\n",
    "    def test_char_distribution(self):\n",
    "        ta = TextAnalyzer(text, src_type='text')\n",
    "        char_dist = ta.char_distribution(letters_only=True)\n",
    "        self.assertEqual(char_dist[1][1], 20)\n",
    "    def test_positivity(self):\n",
    "        ta = TextAnalyzer(text, src_type='text')\n",
    "        positivity = ta.positivity\n",
    "        self.assertEqual(positivity, -44)\n",
    "        \n",
    "suite = unittest.TestLoader().loadTestsFromTestCase(TestTextAnalyzer)\n",
    "unittest.TextTestRunner().run(suite)"
   ]
  },
  {
   "cell_type": "markdown",
   "metadata": {},
   "source": [
    "## Plots\n",
    "You should also run the cell below to make sure your plot methods work. They should produce plots that look like the images found at:\n",
    "* <a href=\"character-distribution.png\" target=\"image_win\">character-distribution.png</a>\n",
    "* <a href=\"common-words.png\" target=\"image_win\">common-words.png</a>"
   ]
  },
  {
   "cell_type": "code",
   "execution_count": 45,
   "metadata": {
    "collapsed": true,
    "scrolled": true
   },
   "outputs": [
    {
     "data": {
      "image/png": "[encoded data removed]",
      "text/plain": [
       "<Figure size 864x432 with 1 Axes>"
      ]
     },
     "metadata": {},
     "output_type": "display_data"
    },
    {
     "data": {
      "image/png": "[encoded data removed]",
      "text/plain": [
       "<Figure size 864x432 with 1 Axes>"
      ]
     },
     "metadata": {},
     "output_type": "display_data"
    }
   ],
   "source": [
    "%matplotlib inline\n",
    "import numpy as np\n",
    "import pandas as pd\n",
    "\n",
    "pd.set_option('display.max_columns', 10)\n",
    "pd.set_option('display.max_rows', 10)\n",
    "\n",
    "ta = TextAnalyzer('pride-and-prejudice.txt', src_type='path')\n",
    "ta.plot_common_words(minlen=5)\n",
    "ta.plot_char_distribution(letters_only=True)"
   ]
  },
  {
   "cell_type": "markdown",
   "metadata": {},
   "source": [
    "## Exam: Using the TextAnalyzer"
   ]
  },
  {
   "cell_type": "markdown",
   "metadata": {},
   "source": [
    "### Question 1\n",
    "How many words are in the text of William Henry Harrison's 1841 inaugaral address?\n",
    "* The address can be found at https://www.webucator.com/how-to/william-henry-harrisons-inaugural-address.cfm.\n",
    "* Its contents are in a div tag with the id 'content-main'."
   ]
  },
  {
   "cell_type": "code",
   "execution_count": 87,
   "metadata": {
    "collapsed": true
   },
   "outputs": [
    {
     "data": {
      "text/plain": [
       "8430"
      ]
     },
     "execution_count": 87,
     "metadata": {},
     "output_type": "execute_result"
    }
   ],
   "source": [
    "#write code here\n",
    "ta = TextAnalyzer('https://www.webucator.com/how-to/william-henry-harrisons-inaugural-address.cfm','url')\n",
    "ta.set_content_to_tag('div','content-main')\n",
    "ta.word_count"
   ]
  },
  {
   "cell_type": "markdown",
   "metadata": {},
   "source": [
    "### Question 2\n",
    "What is the least common letter in pride-and-prejudice.txt?"
   ]
  },
  {
   "cell_type": "code",
   "execution_count": 124,
   "metadata": {
    "collapsed": true
   },
   "outputs": [
    {
     "name": "stdout",
     "output_type": "stream",
     "text": [
      "Source type unknown, use discover function to find the type\n"
     ]
    },
    {
     "data": {
      "text/plain": [
       "'Q'"
      ]
     },
     "execution_count": 124,
     "metadata": {},
     "output_type": "execute_result"
    }
   ],
   "source": [
    "#write code here\n",
    "ta = TextAnalyzer('pride-and-prejudice.txt')\n",
    "ta.char_distribution(letters_only=True)[-1][0]"
   ]
  },
  {
   "cell_type": "markdown",
   "metadata": {},
   "source": [
    "### Question 3\n",
    "What is the most common 11-letter word in pride-and-prejudice.txt?  "
   ]
  },
  {
   "cell_type": "code",
   "execution_count": 127,
   "metadata": {
    "collapsed": true,
    "scrolled": true
   },
   "outputs": [
    {
     "name": "stdout",
     "output_type": "stream",
     "text": [
      "Source type unknown, use discover function to find the type\n"
     ]
    },
    {
     "data": {
      "text/plain": [
       "'NETHERFIELD'"
      ]
     },
     "execution_count": 127,
     "metadata": {},
     "output_type": "execute_result"
    }
   ],
   "source": [
    "#write code here\n",
    "ta = TextAnalyzer('pride-and-prejudice.txt')\n",
    "ta.common_words(minlen=11,maxlen=11)[0][0]"
   ]
  },
  {
   "cell_type": "markdown",
   "metadata": {},
   "source": [
    "### Question 4\n",
    "What is the average word length in pride-and-prejudice.txt?"
   ]
  },
  {
   "cell_type": "code",
   "execution_count": 96,
   "metadata": {
    "collapsed": true
   },
   "outputs": [
    {
     "name": "stdout",
     "output_type": "stream",
     "text": [
      "Source type unknown, use discover function to find the type\n"
     ]
    },
    {
     "data": {
      "text/plain": [
       "4.43"
      ]
     },
     "execution_count": 96,
     "metadata": {},
     "output_type": "execute_result"
    }
   ],
   "source": [
    "#write code here\n",
    "ta = TextAnalyzer('pride-and-prejudice.txt')\n",
    "ta.avg_word_length"
   ]
  },
  {
   "cell_type": "markdown",
   "metadata": {},
   "source": [
    "### Question 5\n",
    "How many distinct words are there in pride-and-prejudice.txt?"
   ]
  },
  {
   "cell_type": "code",
   "execution_count": 99,
   "metadata": {
    "collapsed": true
   },
   "outputs": [
    {
     "name": "stdout",
     "output_type": "stream",
     "text": [
      "Source type unknown, use discover function to find the type\n"
     ]
    },
    {
     "data": {
      "text/plain": [
       "6839"
      ]
     },
     "execution_count": 99,
     "metadata": {},
     "output_type": "execute_result"
    }
   ],
   "source": [
    "#write code here\n",
    "ta = TextAnalyzer('pride-and-prejudice.txt')\n",
    "ta.distinct_word_count"
   ]
  },
  {
   "cell_type": "markdown",
   "metadata": {},
   "source": [
    "### Question 6\n",
    "How many words, ignoring case, are used only once in pride-and-prejudice.txt?"
   ]
  },
  {
   "cell_type": "code",
   "execution_count": 102,
   "metadata": {
    "collapsed": true
   },
   "outputs": [
    {
     "name": "stdout",
     "output_type": "stream",
     "text": [
      "Source type unknown, use discover function to find the type\n",
      "2886 words are used only once in PAP\n"
     ]
    }
   ],
   "source": [
    "#write code here\n",
    "ta = TextAnalyzer('pride-and-prejudice.txt')\n",
    "all_counter = ta.common_words(count=None)\n",
    "once = 0\n",
    "for word, frq in all_counter:\n",
    "    if frq == 1:\n",
    "        once+=1\n",
    "print(str(once)+\" words are used only once in PAP\")"
   ]
  },
  {
   "cell_type": "markdown",
   "metadata": {},
   "source": [
    "### Question 7\n",
    "How many distinct words in pride-and-prejudice.txt have less than five characters, at least one character of which is a capital 'A'."
   ]
  },
  {
   "cell_type": "code",
   "execution_count": 148,
   "metadata": {
    "collapsed": true
   },
   "outputs": [
    {
     "name": "stdout",
     "output_type": "stream",
     "text": [
      "Source type unknown, use discover function to find the type\n",
      "13 words are shorter than five chars with \"A\" \n"
     ]
    }
   ],
   "source": [
    "#write code here\n",
    "ta = TextAnalyzer('pride-and-prejudice.txt')\n",
    "\n",
    "all_counter = ta.common_words(maxlen=4,count=None,casesensitive=True)\n",
    "\n",
    "A_frq = 0\n",
    "for word, frq in all_counter:\n",
    "    if 'A' in word:\n",
    "        A_frq+=1\n",
    "print(str(A_frq)+\" words are shorter than five chars with \\\"A\\\" \")"
   ]
  },
  {
   "cell_type": "markdown",
   "metadata": {},
   "source": [
    "### Question 8\n",
    "A palindrome is a word spelled the same forwards and backwards, like BOB. How many distinct palindromes are there in pride-and-prejudice.txt.\n",
    "* Only include words with at least three letters."
   ]
  },
  {
   "cell_type": "code",
   "execution_count": 150,
   "metadata": {
    "collapsed": true
   },
   "outputs": [
    {
     "name": "stdout",
     "output_type": "stream",
     "text": [
      "Source type unknown, use discover function to find the type\n",
      "9 words are palindrome\n"
     ]
    }
   ],
   "source": [
    "#write code here\n",
    "ta = TextAnalyzer('pride-and-prejudice.txt')\n",
    "\n",
    "all_counter = ta.common_words(minlen=3,count=None)\n",
    "\n",
    "A_frq = 0\n",
    "for word, frq in all_counter:\n",
    "    if word == word[::-1]:\n",
    "        A_frq+=1\n",
    "print(str(A_frq)+\" words are palindrome\")"
   ]
  },
  {
   "cell_type": "markdown",
   "metadata": {},
   "source": [
    "### Question 9\n",
    "What is the positivity rating of 'pride-and-prejudice.txt'"
   ]
  },
  {
   "cell_type": "code",
   "execution_count": 151,
   "metadata": {
    "collapsed": true
   },
   "outputs": [
    {
     "name": "stdout",
     "output_type": "stream",
     "text": [
      "Source type unknown, use discover function to find the type\n"
     ]
    },
    {
     "data": {
      "text/plain": [
       "11"
      ]
     },
     "execution_count": 151,
     "metadata": {},
     "output_type": "execute_result"
    }
   ],
   "source": [
    "#write code here\n",
    "ta = TextAnalyzer('pride-and-prejudice.txt')\n",
    "ta.positivity"
   ]
  },
  {
   "cell_type": "markdown",
   "metadata": {},
   "source": [
    "### Question 10\n",
    "Which of the following addresses (originally from http://www.inaugural.senate.gov/swearing-in/addresses) has the lowest positivity rating?\n",
    "1. https://www.webucator.com/how-to/george-bushs-inaugural-address.cfm\n",
    "1. https://www.webucator.com/how-to/harry-s-trumans-inaugural-address.cfm\n",
    "1. https://www.webucator.com/how-to/william-mckinleys-inaugural-address.cfm\n",
    "1. https://www.webucator.com/how-to/zachary-taylors-inaugural-address.cfm\n",
    "\n",
    "Note the contents of the addresses are in a div tag with the id 'content-main'."
   ]
  },
  {
   "cell_type": "code",
   "execution_count": 157,
   "metadata": {
    "collapsed": true
   },
   "outputs": [
    {
     "name": "stdout",
     "output_type": "stream",
     "text": [
      "3\n"
     ]
    }
   ],
   "source": [
    "#write code here\n",
    "ta_1 = TextAnalyzer('https://www.webucator.com/how-to/george-bushs-inaugural-address.cfm','url')\n",
    "ta_1.set_content_to_tag('div','content-main')\n",
    "ta_2 = TextAnalyzer('https://www.webucator.com/how-to/harry-s-trumans-inaugural-address.cfm','url')\n",
    "ta_2.set_content_to_tag('div','content-main')\n",
    "ta_3 = TextAnalyzer('https://www.webucator.com/how-to/william-mckinleys-inaugural-address.cfm','url')\n",
    "ta_3.set_content_to_tag('div','content-main')\n",
    "ta_4 = TextAnalyzer('https://www.webucator.com/how-to/zachary-taylors-inaugural-address.cfm','url')\n",
    "ta_4.set_content_to_tag('div','content-main')\n",
    "\n",
    "pos_dict={'1':ta_1.positivity,'2':ta_2.positivity,'3':ta_3.positivity,'4':ta_4.positivity,}\n",
    "print(min(pos_dict, key=pos_dict.get))"
   ]
  },
  {
   "cell_type": "code",
   "execution_count": null,
   "metadata": {},
   "outputs": [],
   "source": []
  }
 ],
 "metadata": {
  "kernelspec": {
   "display_name": "Python 3",
   "language": "python",
   "name": "python3"
  },
  "language_info": {
   "codemirror_mode": {
    "name": "ipython",
    "version": 3
   },
   "file_extension": ".py",
   "mimetype": "text/x-python",
   "name": "python",
   "nbconvert_exporter": "python",
   "pygments_lexer": "ipython3",
   "version": "3.6.2"
  }
 },
 "nbformat": 4,
 "nbformat_minor": 2
}
